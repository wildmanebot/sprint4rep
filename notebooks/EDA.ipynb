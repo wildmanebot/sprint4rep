{
 "cells": [
  {
   "cell_type": "code",
   "execution_count": 107,
   "metadata": {},
   "outputs": [
    {
     "name": "stdout",
     "output_type": "stream",
     "text": [
      "<class 'pandas.core.frame.DataFrame'>\n",
      "RangeIndex: 51525 entries, 0 to 51524\n",
      "Data columns (total 13 columns):\n",
      " #   Column        Non-Null Count  Dtype  \n",
      "---  ------        --------------  -----  \n",
      " 0   price         51525 non-null  int64  \n",
      " 1   model_year    47906 non-null  float64\n",
      " 2   model         51525 non-null  object \n",
      " 3   condition     51525 non-null  object \n",
      " 4   cylinders     46265 non-null  float64\n",
      " 5   fuel          51525 non-null  object \n",
      " 6   odometer      43633 non-null  float64\n",
      " 7   transmission  51525 non-null  object \n",
      " 8   type          51525 non-null  object \n",
      " 9   paint_color   42258 non-null  object \n",
      " 10  is_4wd        25572 non-null  float64\n",
      " 11  date_posted   51525 non-null  object \n",
      " 12  days_listed   51525 non-null  int64  \n",
      "dtypes: float64(4), int64(2), object(7)\n",
      "memory usage: 5.1+ MB\n"
     ]
    }
   ],
   "source": [
    "#import pandas and matplotlib libaries\n",
    "import pandas as pd\n",
    "from matplotlib import pyplot as plt\n",
    "\n",
    "#read data from csv file into vehicles_df dataframe. No delimiters are specified, default comma is used.\n",
    "vehicles_df = pd.read_csv('../vehicles_us.csv')\n",
    "\n",
    "#display vehicles_df information\n",
    "vehicles_df.info()\n",
    "\n",
    "\n",
    "\n",
    "\n"
   ]
  },
  {
   "cell_type": "markdown",
   "metadata": {},
   "source": [
    "Looks like there may be some missing and possibly duplicate values in the dataframe, based on the call to the info() method. We'll investigate closer:"
   ]
  },
  {
   "cell_type": "code",
   "execution_count": 112,
   "metadata": {},
   "outputs": [
    {
     "name": "stdout",
     "output_type": "stream",
     "text": [
      "There are 0 duplicated rows in the dataframe.\n",
      "\n",
      "Column model_year has 3619 missing values.\n",
      "Column cylinders has 5260 missing values.\n",
      "Column odometer has 7892 missing values.\n",
      "Column paint_color has 9267 missing values.\n",
      "Column is_4wd has 25953 missing values.\n",
      "\n",
      "There are 8 columns with no missing values.\n",
      "\n"
     ]
    }
   ],
   "source": [
    "\n",
    "#Check for duplicated rows in the dataframe\n",
    "print('There are',vehicles_df.duplicated().sum(),'duplicated rows in the dataframe.')\n",
    "print('')\n",
    "\n",
    "#define a function named check_missing to check for missing values. Includes a \n",
    "#for loop which iterates through each column in the vehicles_df dataframe and checks for columns where\n",
    "#there are missing values and prints the total amount of missing values for each column\n",
    "def check_missing():\n",
    "    none_missing = 0\n",
    "    for column in vehicles_df:\n",
    "        missing = vehicles_df[column].isna().sum()\n",
    "        if missing > 0:\n",
    "            print(\"Column\", column, \"has\", missing, \"missing values.\")\n",
    "        else:\n",
    "            none_missing += 1\n",
    "\n",
    "    print('')\n",
    "    print('There are', none_missing, 'columns with no missing values.')\n",
    "    print('')\n",
    "\n",
    "#call check_missing function\n",
    "check_missing()"
   ]
  },
  {
   "cell_type": "markdown",
   "metadata": {},
   "source": [
    "We've found some issues with the dataframe columns and the data contained within. In the following code block we will be making some changes to the dataframe:"
   ]
  },
  {
   "cell_type": "code",
   "execution_count": 114,
   "metadata": {},
   "outputs": [],
   "source": [
    "\n",
    "#Fills missing values in model_year column with value of 3000 and converts entire column to integer type \n",
    "vehicles_df['model_year'] = vehicles_df['model_year'].fillna('3000').astype('int')\n",
    "\n",
    "#Fills missing values in cylinders column with value of 0 and converts entire column to integer type\n",
    "vehicles_df['cylinders'] = vehicles_df['cylinders'].fillna('0').astype('int')\n",
    "\n",
    "#Fills missing values in odometer column with value of 0 and converts entire column to integer type\n",
    "vehicles_df['odometer'] = vehicles_df['odometer'].fillna('0').astype('int')\n",
    "\n",
    "#Fills missing values in paint_color column with string \"unspecified\" and converts entire column to string (object Dtype)\n",
    "vehicles_df['paint_color'] = vehicles_df['paint_color'].fillna('unspecified').astype('str')\n",
    "\n",
    "#Fills missing values in is_4wd column with string '2wd' (two wheel drive) and converts entire column to string (object Dtype)\n",
    "vehicles_df['is_4wd'] = vehicles_df['is_4wd'].fillna('2wd').astype('str')\n",
    "\n",
    "#Replaces values of 1 (with the assumption that a value of 1 means that vehicle is 4wd) with string '4wd'\n",
    "vehicles_df['is_4wd'] = vehicles_df['is_4wd'].replace(['1.0'], '4wd')\n",
    "\n",
    "#Renames is_4wd column to something more intuitive - \"drivetrain\"\n",
    "vehicles_df = vehicles_df.rename(columns={'is_4wd': 'drivetrain'})"
   ]
  },
  {
   "cell_type": "markdown",
   "metadata": {},
   "source": [
    "After modifying the dataframe, we then call the check_missing function again to show that we have successfully modified the dataframe:"
   ]
  },
  {
   "cell_type": "code",
   "execution_count": 115,
   "metadata": {},
   "outputs": [
    {
     "name": "stdout",
     "output_type": "stream",
     "text": [
      "\n",
      "There are 13 columns with no missing values.\n",
      "\n"
     ]
    }
   ],
   "source": [
    "#call check_missing function to see that the changes we made are successful. Since there are 13 columns, we expect to see 13 columns\n",
    "#with no missing values as the result.\n",
    "check_missing()"
   ]
  },
  {
   "cell_type": "code",
   "execution_count": null,
   "metadata": {},
   "outputs": [],
   "source": []
  }
 ],
 "metadata": {
  "kernelspec": {
   "display_name": "Python 3.9.12 ('base')",
   "language": "python",
   "name": "python3"
  },
  "language_info": {
   "codemirror_mode": {
    "name": "ipython",
    "version": 3
   },
   "file_extension": ".py",
   "mimetype": "text/x-python",
   "name": "python",
   "nbconvert_exporter": "python",
   "pygments_lexer": "ipython3",
   "version": "3.9.12"
  },
  "orig_nbformat": 4,
  "vscode": {
   "interpreter": {
    "hash": "ad2bdc8ecc057115af97d19610ffacc2b4e99fae6737bb82f5d7fb13d2f2c186"
   }
  }
 },
 "nbformat": 4,
 "nbformat_minor": 2
}
